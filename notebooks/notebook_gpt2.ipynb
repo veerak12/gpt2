{
  "cells": [
    {
      "cell_type": "code",
      "execution_count": 2,
      "metadata": {
        "colab": {
          "base_uri": "https://localhost:8080/"
        },
        "id": "RhpieX_H51FU",
        "outputId": "1b01400e-f2a6-4f6b-e024-c2f34698fd3f"
      },
      "outputs": [
        {
          "name": "stdout",
          "output_type": "stream",
          "text": [
            "Collecting tiktoken\n",
            "  Downloading tiktoken-0.8.0-cp310-cp310-manylinux_2_17_x86_64.manylinux2014_x86_64.whl.metadata (6.6 kB)\n",
            "Requirement already satisfied: regex>=2022.1.18 in /usr/local/lib/python3.10/dist-packages (from tiktoken) (2024.11.6)\n",
            "Requirement already satisfied: requests>=2.26.0 in /usr/local/lib/python3.10/dist-packages (from tiktoken) (2.32.3)\n",
            "Requirement already satisfied: charset-normalizer<4,>=2 in /usr/local/lib/python3.10/dist-packages (from requests>=2.26.0->tiktoken) (3.4.0)\n",
            "Requirement already satisfied: idna<4,>=2.5 in /usr/local/lib/python3.10/dist-packages (from requests>=2.26.0->tiktoken) (3.10)\n",
            "Requirement already satisfied: urllib3<3,>=1.21.1 in /usr/local/lib/python3.10/dist-packages (from requests>=2.26.0->tiktoken) (2.2.3)\n",
            "Requirement already satisfied: certifi>=2017.4.17 in /usr/local/lib/python3.10/dist-packages (from requests>=2.26.0->tiktoken) (2024.12.14)\n",
            "Downloading tiktoken-0.8.0-cp310-cp310-manylinux_2_17_x86_64.manylinux2014_x86_64.whl (1.2 MB)\n",
            "\u001b[?25l   \u001b[90m━━━━━━━━━━━━━━━━━━━━━━━━━━━━━━━━━━━━━━━━\u001b[0m \u001b[32m0.0/1.2 MB\u001b[0m \u001b[31m?\u001b[0m eta \u001b[36m-:--:--\u001b[0m\r\u001b[2K   \u001b[91m━━━━\u001b[0m\u001b[90m╺\u001b[0m\u001b[90m━━━━━━━━━━━━━━━━━━━━━━━━━━━━━━━━━━━\u001b[0m \u001b[32m0.1/1.2 MB\u001b[0m \u001b[31m3.4 MB/s\u001b[0m eta \u001b[36m0:00:01\u001b[0m\r\u001b[2K   \u001b[91m━━━━━━━━━━━━━━━━━━━━━━━━━━━━━━━\u001b[0m\u001b[90m╺\u001b[0m\u001b[90m━━━━━━━━\u001b[0m \u001b[32m0.9/1.2 MB\u001b[0m \u001b[31m13.2 MB/s\u001b[0m eta \u001b[36m0:00:01\u001b[0m\r\u001b[2K   \u001b[90m━━━━━━━━━━━━━━━━━━━━━━━━━━━━━━━━━━━━━━━━\u001b[0m \u001b[32m1.2/1.2 MB\u001b[0m \u001b[31m13.1 MB/s\u001b[0m eta \u001b[36m0:00:00\u001b[0m\n",
            "\u001b[?25hInstalling collected packages: tiktoken\n",
            "Successfully installed tiktoken-0.8.0\n",
            "Requirement already satisfied: transformers in /usr/local/lib/python3.10/dist-packages (4.47.1)\n",
            "Requirement already satisfied: filelock in /usr/local/lib/python3.10/dist-packages (from transformers) (3.16.1)\n",
            "Requirement already satisfied: huggingface-hub<1.0,>=0.24.0 in /usr/local/lib/python3.10/dist-packages (from transformers) (0.27.0)\n",
            "Requirement already satisfied: numpy>=1.17 in /usr/local/lib/python3.10/dist-packages (from transformers) (1.26.4)\n",
            "Requirement already satisfied: packaging>=20.0 in /usr/local/lib/python3.10/dist-packages (from transformers) (24.2)\n",
            "Requirement already satisfied: pyyaml>=5.1 in /usr/local/lib/python3.10/dist-packages (from transformers) (6.0.2)\n",
            "Requirement already satisfied: regex!=2019.12.17 in /usr/local/lib/python3.10/dist-packages (from transformers) (2024.11.6)\n",
            "Requirement already satisfied: requests in /usr/local/lib/python3.10/dist-packages (from transformers) (2.32.3)\n",
            "Requirement already satisfied: tokenizers<0.22,>=0.21 in /usr/local/lib/python3.10/dist-packages (from transformers) (0.21.0)\n",
            "Requirement already satisfied: safetensors>=0.4.1 in /usr/local/lib/python3.10/dist-packages (from transformers) (0.4.5)\n",
            "Requirement already satisfied: tqdm>=4.27 in /usr/local/lib/python3.10/dist-packages (from transformers) (4.67.1)\n",
            "Requirement already satisfied: fsspec>=2023.5.0 in /usr/local/lib/python3.10/dist-packages (from huggingface-hub<1.0,>=0.24.0->transformers) (2024.10.0)\n",
            "Requirement already satisfied: typing-extensions>=3.7.4.3 in /usr/local/lib/python3.10/dist-packages (from huggingface-hub<1.0,>=0.24.0->transformers) (4.12.2)\n",
            "Requirement already satisfied: charset-normalizer<4,>=2 in /usr/local/lib/python3.10/dist-packages (from requests->transformers) (3.4.0)\n",
            "Requirement already satisfied: idna<4,>=2.5 in /usr/local/lib/python3.10/dist-packages (from requests->transformers) (3.10)\n",
            "Requirement already satisfied: urllib3<3,>=1.21.1 in /usr/local/lib/python3.10/dist-packages (from requests->transformers) (2.2.3)\n",
            "Requirement already satisfied: certifi>=2017.4.17 in /usr/local/lib/python3.10/dist-packages (from requests->transformers) (2024.12.14)\n"
          ]
        }
      ],
      "source": [
        "!pip install tiktoken\n",
        "!pip install transformers"
      ]
    },
    {
      "cell_type": "code",
      "execution_count": 3,
      "metadata": {
        "id": "wXVadOkb8jI4"
      },
      "outputs": [],
      "source": [
        "GPT_CONFIG_124M = {\n",
        "    # Model Configuration\n",
        "    \"vocab_size\": 50257,           # Size of vocabulary (tokenized)\n",
        "    \"context_length\": 512,        # Maximum sequence length is 1024 (context window)\n",
        "    \"emb_dim\": 768,                # Embedding dimension (vector size for each token)\n",
        "    \"n_heads\": 12,                 # Number of attention heads in the MultiHeadAttention\n",
        "    \"n_layers\": 12,                # Number of Transformer layers\n",
        "    \"drop_rate\": 0.1,              # Dropout rate for regularization\n",
        "    \"qkv_bias\": False,             # Whether to add bias to the Q, K, V linear projections\n",
        "\n",
        "    # Training Configuration\n",
        "    \"batch_size\":4 ,               # Batch size for training (adjust as needed)\n",
        "    \"learning_rate\": 1e-4,         # Learning rate for the optimizer\n",
        "    \"weight_decay\": 0.001,          # Weight decay for regularization\n",
        "    \"epochs\": 25              # Number of training epochs\n",
        "}\n"
      ]
    },
    {
      "cell_type": "code",
      "execution_count": 4,
      "metadata": {
        "id": "0ZROegrl789S"
      },
      "outputs": [],
      "source": [
        "import torch\n",
        "from torch.utils.data import Dataset\n",
        "import pandas as pd\n",
        "\n",
        "class GPTDataset(Dataset):\n",
        "    def __init__(self, text_file=None, csv_file=None, tokenizer=None, max_length=256, stride=128):\n",
        "        self.input_ids = []\n",
        "        self.target_ids = []\n",
        "        self.tokenizer = tokenizer\n",
        "\n",
        "        if csv_file:\n",
        "            # Load CSV data\n",
        "            data = pd.read_csv(csv_file)\n",
        "\n",
        "            # Ensure the required columns are present\n",
        "            if not {\"focus_area\", \"question\", \"answer\"}.issubset(data.columns):\n",
        "                raise ValueError(\"CSV file must contain 'focus_area', 'question', and 'answer' columns\")\n",
        "\n",
        "            # Format focus area, question, and answer pairs\n",
        "            formatted_data = [\n",
        "                f\"Focus Area: {row['focus_area']}\\nQuestion: {row['question']}\\nAnswer: {row['answer']}\\n<|endoftext|>\"\n",
        "                for _, row in data.iterrows()\n",
        "            ]\n",
        "\n",
        "            # Tokenize and create chunks\n",
        "            for text in formatted_data:\n",
        "                tokens = tokenizer.encode(text, allowed_special={\"<|endoftext|>\"})\n",
        "                self._create_sequences(tokens, max_length, stride)\n",
        "\n",
        "        elif text_file:\n",
        "            # Load plain text file (existing functionality)\n",
        "            with open(text_file, 'r', encoding='utf-8') as f:\n",
        "                text = f.read()\n",
        "            tokens = tokenizer.encode(text, allowed_special={\"<|endoftext|>\"})\n",
        "            self._create_sequences(tokens, max_length, stride)\n",
        "\n",
        "    def _create_sequences(self, tokens, max_length, stride):\n",
        "        for i in range(0, len(tokens) - max_length, stride):\n",
        "            input_chunk = tokens[i:i + max_length]\n",
        "            target_chunk = tokens[i + 1:i + max_length + 1]\n",
        "            self.input_ids.append(torch.tensor(input_chunk))\n",
        "            self.target_ids.append(torch.tensor(target_chunk))\n",
        "\n",
        "    def __len__(self):\n",
        "        return len(self.input_ids)\n",
        "\n",
        "    def __getitem__(self, idx):\n",
        "        return self.input_ids[idx], self.target_ids[idx]\n"
      ]
    },
    {
      "cell_type": "code",
      "execution_count": 5,
      "metadata": {
        "id": "Bn7bsx_97vfR"
      },
      "outputs": [],
      "source": [
        "import torch\n",
        "from torch.utils.data import DataLoader, random_split\n",
        "import tiktoken\n",
        "#from gpt_dataset_class import GPTDataset  # Import the GPTDataset class\n",
        "\n",
        "def load_and_split_data(text_file=None, csv_file=None, config=None):\n",
        "    if text_file is None and csv_file is None:\n",
        "        raise ValueError(\"Either 'text_file' or 'csv_file' must be provided.\")\n",
        "    if text_file is not None and csv_file is not None:\n",
        "        raise ValueError(\"Provide only one of 'text_file' or 'csv_file'. Not both.\")\n",
        "\n",
        "    tokenizer = tiktoken.get_encoding(\"gpt2\")  # Using GPT-2 tokenizer\n",
        "\n",
        "    # Load the dataset using GPTDataset\n",
        "    dataset = GPTDataset(\n",
        "        text_file=text_file,\n",
        "        csv_file=csv_file,\n",
        "        tokenizer=tokenizer,\n",
        "        max_length=config[\"context_length\"],  # Max length for tokenized input\n",
        "        stride=config[\"context_length\"] // 2  # Overlap for sliding window\n",
        "    )\n",
        "\n",
        "    total_size = len(dataset)  # Length of the dataset\n",
        "    train_ratio = 0.9  # 90% for training and 10% for validation\n",
        "    train_size = int(train_ratio * total_size)\n",
        "    val_size = total_size - train_size\n",
        "\n",
        "    # Sanity checks to ensure enough data for training and validation\n",
        "    total_tokens = len(dataset.input_ids) * config[\"context_length\"]\n",
        "    if total_tokens * train_ratio < config[\"context_length\"]:\n",
        "        raise ValueError(\n",
        "            \"Not enough tokens for the training loader. \"\n",
        "            \"Try to lower the `context_length` or increase the `training_ratio`.\"\n",
        "        )\n",
        "\n",
        "    if total_tokens * (1 - train_ratio) < config[\"context_length\"]:\n",
        "        raise ValueError(\n",
        "            \"Not enough tokens for the validation loader. \"\n",
        "            \"Try to lower the `context_length` or decrease the `training_ratio`.\"\n",
        "        )\n",
        "\n",
        "    # Split dataset into train and validation sets\n",
        "    train_dataset, val_dataset = random_split(dataset, [train_size, val_size])\n",
        "\n",
        "    # Create DataLoader for train and validation datasets\n",
        "    train_loader = DataLoader(train_dataset, batch_size=config[\"batch_size\"], shuffle=True)\n",
        "    val_loader = DataLoader(val_dataset, batch_size=config[\"batch_size\"], shuffle=False)\n",
        "\n",
        "    return train_loader, val_loader\n"
      ]
    },
    {
      "cell_type": "code",
      "execution_count": 6,
      "metadata": {
        "id": "GJsOjHMC8pkn"
      },
      "outputs": [],
      "source": [
        "# GELU class\n",
        "import torch\n",
        "import torch.nn as nn\n",
        "\n",
        "class GELU(nn.Module):\n",
        "    def forward(self, x):\n",
        "        return 0.5 * x * (1 + torch.tanh(torch.sqrt(torch.tensor(2.0 / torch.pi)) * (x + 0.044715 * torch.pow(x, 3))))\n"
      ]
    },
    {
      "cell_type": "code",
      "execution_count": 7,
      "metadata": {
        "id": "5B9Io5np8tAX"
      },
      "outputs": [],
      "source": [
        "# FeedForward class\n",
        "import torch\n",
        "import torch.nn as nn\n",
        "#from src.models.gelu import GELU  # Assuming GELU is a custom activation function\n",
        "\n",
        "class FeedForward(nn.Module):\n",
        "    def __init__(self, emb_dim, dropout=0.1):\n",
        "        super().__init__()\n",
        "\n",
        "        # Define the FeedForward network using nn.Sequential\n",
        "        self.net = nn.Sequential(\n",
        "            nn.Linear(emb_dim, 4 * emb_dim),  # First Linear layer\n",
        "            GELU(),                           # Activation function\n",
        "            nn.Linear(4 * emb_dim, emb_dim),  # Second Linear layer\n",
        "            nn.Dropout(dropout)               # Dropout for regularization\n",
        "        )\n",
        "\n",
        "    def forward(self, x):\n",
        "        return self.net(x)  # Forward pass through the sequential layers\n"
      ]
    },
    {
      "cell_type": "code",
      "execution_count": 8,
      "metadata": {
        "id": "KZzqcYDp8zKY"
      },
      "outputs": [],
      "source": [
        "# LayerNorm class\n",
        "import torch\n",
        "import torch.nn as nn\n",
        "\n",
        "class LayerNorm(nn.Module):\n",
        "    def __init__(self, emb_dim, eps=1e-5):\n",
        "        super().__init__()\n",
        "        self.scale = nn.Parameter(torch.ones(emb_dim))\n",
        "        self.shift = nn.Parameter(torch.zeros(emb_dim))\n",
        "        self.eps = eps\n",
        "\n",
        "    def forward(self, x):\n",
        "        mean = x.mean(dim=-1, keepdim=True)\n",
        "        var = x.var(dim=-1, keepdim=True, unbiased=False)\n",
        "        norm_x = (x - mean) / torch.sqrt(var + self.eps)\n",
        "        return self.scale * norm_x + self.shift\n",
        "\n",
        "#builin class\n",
        "# import torch\n",
        "# import torch.nn as nn\n",
        "\n",
        "# class LayerNorm(nn.Module):\n",
        "#     def __init__(self, emb_dim, eps=1e-5):\n",
        "#         super().__init__()\n",
        "#         self.norm = nn.LayerNorm(emb_dim, eps=eps)  # Use built-in LayerNorm\n",
        "\n",
        "#     def forward(self, x):\n",
        "#         return self.norm(x)  # Forward pass through built-in LayerNorm\n",
        "\n"
      ]
    },
    {
      "cell_type": "code",
      "execution_count": 9,
      "metadata": {
        "id": "7tgUOsnB85xQ"
      },
      "outputs": [],
      "source": [
        "# MultiHeadAttention class\n",
        "import torch\n",
        "import torch.nn as nn\n",
        "\n",
        "class MultiHeadAttention(nn.Module):\n",
        "    def __init__(self, d_in, d_out, context_length, dropout, num_heads, qkv_bias=False):\n",
        "        super().__init__()\n",
        "        assert d_out % num_heads == 0, \"Embedding dimension(d_out) must be divisible by number of heads\"\n",
        "        self.d_out = d_out\n",
        "        self.num_heads = num_heads\n",
        "        self.head_dim = d_out // num_heads\n",
        "        self.W_query = nn.Linear(d_in, d_out, bias=qkv_bias)\n",
        "        self.W_key = nn.Linear(d_in, d_out, bias=qkv_bias)\n",
        "        self.W_value = nn.Linear(d_in, d_out, bias=qkv_bias)\n",
        "        self.out_proj = nn.Linear(d_out, d_out)\n",
        "        self.dropout = nn.Dropout(dropout)\n",
        "\n",
        "        # Create the causal mask for self-attention\n",
        "        self.register_buffer(\n",
        "            \"mask\",\n",
        "            torch.triu(torch.ones(context_length, context_length), diagonal=1)\n",
        "        )\n",
        "\n",
        "    def forward(self, x):\n",
        "        b, num_tokens, d_in = x.shape\n",
        "\n",
        "        # Assert that num_tokens is less than or equal to context_length\n",
        "        assert num_tokens <= self.mask.shape[0], \"Sequence length exceeds context length\"\n",
        "\n",
        "        # Linear transformations for queries, keys, and values\n",
        "        queries = self.W_query(x)\n",
        "        keys = self.W_key(x)\n",
        "        values = self.W_value(x)\n",
        "\n",
        "        # Reshape into multi-head dimensions\n",
        "        queries = queries.view(b, num_tokens, self.num_heads, self.head_dim).transpose(1, 2)\n",
        "        keys = keys.view(b, num_tokens, self.num_heads, self.head_dim).transpose(1, 2)\n",
        "        values = values.view(b, num_tokens, self.num_heads, self.head_dim).transpose(1, 2)\n",
        "\n",
        "        # Compute attention scores\n",
        "        attn_scores = queries @ keys.transpose(-2, -1)\n",
        "\n",
        "        # Apply the causal mask\n",
        "        mask_bool = self.mask.bool()[:num_tokens, :num_tokens]\n",
        "        attn_scores.masked_fill_(mask_bool, float('-inf'))\n",
        "\n",
        "        # Compute attention weights and apply dropout\n",
        "        attn_weights = torch.softmax(attn_scores / (self.head_dim ** 0.5), dim=-1)\n",
        "        attn_weights = self.dropout(attn_weights)\n",
        "\n",
        "        # Compute context vectors\n",
        "        context_vec = (attn_weights @ values).transpose(1, 2)\n",
        "        context_vec = context_vec.contiguous().view(b, num_tokens, self.d_out)\n",
        "\n",
        "        # Apply the final projection\n",
        "        context_vec = self.out_proj(context_vec)\n",
        "\n",
        "        return context_vec\n",
        "\n"
      ]
    },
    {
      "cell_type": "code",
      "execution_count": 10,
      "metadata": {
        "id": "82XumrRR88_3"
      },
      "outputs": [],
      "source": [
        "# TransformerBlock class\n",
        "\n",
        "import torch\n",
        "import torch.nn as nn\n",
        "# from src.models.multi_head_attention import MultiHeadAttention\n",
        "# from src.models.feed_forward import FeedForward\n",
        "# from src.models.layer_norm import LayerNorm\n",
        "# from src.models.config import GPT_CONFIG_124M\n",
        "\n",
        "class TransformerBlock(nn.Module):\n",
        "    def __init__(self):\n",
        "        super().__init__()\n",
        "\n",
        "        # Access configuration from GPT_CONFIG_124M\n",
        "        self.att = MultiHeadAttention(\n",
        "            d_in=GPT_CONFIG_124M[\"emb_dim\"],\n",
        "            d_out=GPT_CONFIG_124M[\"emb_dim\"],\n",
        "            context_length=GPT_CONFIG_124M[\"context_length\"],\n",
        "            num_heads=GPT_CONFIG_124M[\"n_heads\"],\n",
        "            dropout=GPT_CONFIG_124M[\"drop_rate\"],\n",
        "            qkv_bias=GPT_CONFIG_124M[\"qkv_bias\"]\n",
        "        )\n",
        "\n",
        "        # FeedForward block (pass config as necessary)\n",
        "        self.ff = FeedForward(GPT_CONFIG_124M[\"emb_dim\"], GPT_CONFIG_124M[\"drop_rate\"])\n",
        "\n",
        "        # LayerNorm for both attention and feed-forward\n",
        "        self.norm1 = LayerNorm(GPT_CONFIG_124M[\"emb_dim\"])\n",
        "        self.norm2 = LayerNorm(GPT_CONFIG_124M[\"emb_dim\"])\n",
        "\n",
        "        # Dropout layers for residual connections\n",
        "        self.drop_shortcut = nn.Dropout(GPT_CONFIG_124M[\"drop_rate\"])\n",
        "\n",
        "    def forward(self, x):\n",
        "        # Shortcut connection for attention block\n",
        "        shortcut = x\n",
        "        x = self.norm1(x)  # LayerNorm first\n",
        "        x = self.att(x)  # Pass through attention layer\n",
        "        x = self.drop_shortcut(x)  # Apply dropout\n",
        "        x = x + shortcut  # Add original input (residual connection)\n",
        "\n",
        "        # Shortcut connection for feed-forward block\n",
        "        shortcut = x\n",
        "        x = self.norm2(x)  # Apply LayerNorm\n",
        "        x = self.ff(x)  # Pass through feed-forward network\n",
        "        x = self.drop_shortcut(x)  # Apply dropout\n",
        "        x = x + shortcut  # Add residual connection\n",
        "\n",
        "        return x\n"
      ]
    },
    {
      "cell_type": "code",
      "execution_count": 11,
      "metadata": {
        "id": "P7HAq-Z-8yHT"
      },
      "outputs": [],
      "source": [
        "import torch\n",
        "import torch.nn as nn\n",
        "# from src.models.transformer_block import TransformerBlock\n",
        "# from src.models.layer_norm import LayerNorm\n",
        "# from src.models.config import GPT_CONFIG_124M  # Import the config directly\n",
        "\n",
        "\n",
        "class GPT2Model(nn.Module):\n",
        "    def __init__(self):\n",
        "        super().__init__()\n",
        "\n",
        "        # Access configuration directly from GPT_CONFIG_124M\n",
        "        config = GPT_CONFIG_124M  # Access configuration directly\n",
        "\n",
        "        self.tok_emb = nn.Embedding(config[\"vocab_size\"], config[\"emb_dim\"])\n",
        "        self.pos_emb = nn.Embedding(config[\"context_length\"], config[\"emb_dim\"])\n",
        "        self.drop_emb = nn.Dropout(config[\"drop_rate\"])\n",
        "\n",
        "        # Use nn.Sequential to stack the transformer blocks as per the configuration\n",
        "        self.trf_blocks = nn.Sequential(\n",
        "            *[TransformerBlock() for _ in range(config[\"n_layers\"])]  # Stack blocks sequentially\n",
        "        )\n",
        "\n",
        "        # Final LayerNorm and output projection layer\n",
        "        self.final_norm = LayerNorm(config[\"emb_dim\"])\n",
        "        self.out_head = nn.Linear(config[\"emb_dim\"], config[\"vocab_size\"], bias=False)\n",
        "\n",
        "    def forward(self, in_idx):\n",
        "        batch_size, seq_len = in_idx.shape\n",
        "\n",
        "        # Get token and position embeddings\n",
        "        tok_embeds = self.tok_emb(in_idx)\n",
        "        pos_embeds = self.pos_emb(torch.arange(seq_len, device=in_idx.device).unsqueeze(0).expand(batch_size, -1))  # Corrected position embedding\n",
        "\n",
        "        # Add token and position embeddings together\n",
        "        x = tok_embeds + pos_embeds  # Shape: [batch_size, num_tokens, emb_size]\n",
        "\n",
        "        # Apply dropout on the embeddings\n",
        "        x = self.drop_emb(x)\n",
        "\n",
        "        # Pass through all transformer blocks sequentially\n",
        "        x = self.trf_blocks(x)\n",
        "\n",
        "        # Apply the final LayerNorm\n",
        "        x = self.final_norm(x)\n",
        "\n",
        "        # Generate logits via the output head (projection layer)\n",
        "        logits = self.out_head(x)\n",
        "\n",
        "        return logits\n"
      ]
    },
    {
      "cell_type": "code",
      "execution_count": 1,
      "metadata": {
        "colab": {
          "base_uri": "https://localhost:8080/"
        },
        "id": "vDp0vMGiA6AU",
        "outputId": "4920e75b-8e90-445c-bdfc-cb17941a83ab"
      },
      "outputs": [
        {
          "name": "stdout",
          "output_type": "stream",
          "text": [
            "Mounted at /content/drive\n"
          ]
        }
      ],
      "source": [
        "from google.colab import drive\n",
        "drive.mount('/content/drive')"
      ]
    },
    {
      "cell_type": "code",
      "execution_count": 12,
      "metadata": {
        "id": "eyRSO-0s9AAX"
      },
      "outputs": [],
      "source": [
        "import os\n",
        "import torch\n",
        "from torch.optim import AdamW\n",
        "from torch.nn import CrossEntropyLoss\n",
        "from tqdm import tqdm\n",
        "from transformers import get_scheduler\n",
        "\n",
        "# Define the directory for saving the model\n",
        "model_path = \"/content/drive/MyDrive/gpt2/gpt2_model\"  # Desired path for saving the model\n",
        "os.makedirs(model_path, exist_ok=True)  # Create the directory and any necessary parent directories\n",
        "\n",
        "def save_model(model, path=None):\n",
        "    \"\"\"\n",
        "    Saves the trained GPT-2 model to the specified path.\n",
        "\n",
        "    Args:\n",
        "    - model (torch.nn.Module): The trained model.\n",
        "    - path (str): Path to save the model. Defaults to the `model_path` directory.\n",
        "    \"\"\"\n",
        "    if path is None:\n",
        "        path = os.path.join(model_path, \"gpt2_model.pth\")  # Default path for saving the model\n",
        "\n",
        "    torch.save(model.state_dict(), path)\n",
        "    print(f\"Model saved to {path}\")\n",
        "\n",
        "def train_model(model, train_loader, config, device):\n",
        "    \"\"\"\n",
        "    Trains the GPT-2 model.\n",
        "\n",
        "    Args:\n",
        "    - model (torch.nn.Module): The GPT-2 model to be trained.\n",
        "    - train_loader (DataLoader): The DataLoader for the training dataset.\n",
        "    - config (dict): Training configuration including learning rate, weight decay, and epochs.\n",
        "    - device (torch.device): The device to use for training (CPU or GPU).\n",
        "\n",
        "    Returns:\n",
        "    - train_loss_history (list): A list of average loss values for each epoch.\n",
        "    - train_accuracy_history (list): A list of average accuracy values for each epoch.\n",
        "    - model (torch.nn.Module): The trained model.\n",
        "    \"\"\"\n",
        "    # Print the device being used\n",
        "    print(f\"Training on device: {device}\")\n",
        "\n",
        "    # Ensure the model is on the correct device\n",
        "    model = model.to(device)\n",
        "\n",
        "    # Initialize optimizer and scheduler\n",
        "    optimizer = AdamW(model.parameters(), lr=config[\"learning_rate\"], weight_decay=config[\"weight_decay\"])\n",
        "    total_steps = len(train_loader) * config[\"epochs\"]\n",
        "    scheduler = get_scheduler(\"linear\", optimizer, num_warmup_steps=0, num_training_steps=total_steps)\n",
        "\n",
        "    # Loss function\n",
        "    loss_fn = CrossEntropyLoss()\n",
        "\n",
        "    train_loss_history = []\n",
        "    train_accuracy_history = []\n",
        "\n",
        "    # Training loop\n",
        "    model.train()\n",
        "    for epoch in range(config[\"epochs\"]):\n",
        "        print(f\"Epoch {epoch+1}/{config['epochs']}\")\n",
        "        train_loss = 0\n",
        "        correct_predictions = 0\n",
        "        total_predictions = 0\n",
        "\n",
        "        for input_ids, target_ids in tqdm(train_loader, desc=\"Training\"):\n",
        "            # Move data to the correct device (GPU or CPU)\n",
        "            input_ids = input_ids.to(device)\n",
        "            target_ids = target_ids.to(device)\n",
        "\n",
        "            # Forward pass\n",
        "            logits = model(input_ids)\n",
        "\n",
        "            # Compute loss\n",
        "            loss = loss_fn(logits.view(-1, logits.size(-1)), target_ids.view(-1))\n",
        "\n",
        "            # Backward pass\n",
        "            optimizer.zero_grad()\n",
        "            loss.backward()\n",
        "            optimizer.step()\n",
        "            scheduler.step()\n",
        "\n",
        "            train_loss += loss.item()\n",
        "\n",
        "            # Calculate accuracy\n",
        "            predicted_ids = logits.argmax(dim=-1)  # Get the token with the highest probability\n",
        "            correct_predictions += (predicted_ids == target_ids).sum().item()\n",
        "            total_predictions += target_ids.numel()\n",
        "\n",
        "        avg_loss = train_loss / len(train_loader)\n",
        "        avg_accuracy = correct_predictions / total_predictions * 100  # Percentage accuracy\n",
        "        train_loss_history.append(avg_loss)\n",
        "        train_accuracy_history.append(avg_accuracy)\n",
        "\n",
        "        print(f\"Training Loss: {avg_loss:.4f}, Training Accuracy: {avg_accuracy:.2f}%\")\n",
        "\n",
        "    # Save the model after the final epoch\n",
        "    save_model(model, path=os.path.join(model_path, \"gpt2_model_final.pth\"))\n",
        "\n",
        "    return train_loss_history, train_accuracy_history, model\n"
      ]
    },
    {
      "cell_type": "code",
      "execution_count": 13,
      "metadata": {
        "id": "mg-uQgML9FTY"
      },
      "outputs": [],
      "source": [
        "import torch\n",
        "from torch.nn import CrossEntropyLoss\n",
        "from tqdm import tqdm\n",
        "\n",
        "def validate_model(model, val_loader, device):\n",
        "    \"\"\"\n",
        "    Validate the GPT-2 model on the validation set.\n",
        "\n",
        "    Args:\n",
        "    - model (torch.nn.Module): The GPT-2 model to be validated.\n",
        "    - val_loader (DataLoader): The DataLoader for the validation dataset.\n",
        "    - device (torch.device): The device to use for validation (CPU or GPU).\n",
        "\n",
        "    Returns:\n",
        "    - avg_loss (float): The average loss over the validation set.\n",
        "    - avg_accuracy (float): The average accuracy over the validation set.\n",
        "    \"\"\"\n",
        "    model.eval()  # Set the model to evaluation mode\n",
        "    total_loss = 0\n",
        "    correct_predictions = 0\n",
        "    total_predictions = 0\n",
        "    loss_fn = CrossEntropyLoss()\n",
        "\n",
        "    with torch.no_grad():  # No gradient computation needed during validation\n",
        "        for input_ids, target_ids in val_loader:\n",
        "            input_ids = input_ids.to(device)\n",
        "            target_ids = target_ids.to(device)\n",
        "\n",
        "            # Forward pass\n",
        "            logits = model(input_ids)\n",
        "\n",
        "            # Compute loss\n",
        "            loss = loss_fn(logits.view(-1, logits.size(-1)), target_ids.view(-1))\n",
        "            total_loss += loss.item()\n",
        "\n",
        "            # Calculate accuracy\n",
        "            predicted_ids = logits.argmax(dim=-1)  # Get the token with the highest probability\n",
        "            correct_predictions += (predicted_ids == target_ids).sum().item()\n",
        "            total_predictions += target_ids.numel()\n",
        "\n",
        "    avg_loss = total_loss / len(val_loader)\n",
        "    avg_accuracy = correct_predictions / total_predictions * 100  # Percentage accuracy\n",
        "    print(f\"Validation Loss: {avg_loss:.4f}, Validation Accuracy: {avg_accuracy:.2f}%\")\n",
        "\n",
        "    return avg_loss, avg_accuracy\n"
      ]
    },
    {
      "cell_type": "code",
      "execution_count": 14,
      "metadata": {
        "id": "QdrwNhRA9HH4"
      },
      "outputs": [],
      "source": [
        "import matplotlib.pyplot as plt\n",
        "\n",
        "\n",
        "def plot_loss(train_loss_history, val_loss_history):\n",
        "    epochs = len(train_loss_history)\n",
        "    plt.figure(figsize=(10, 6))\n",
        "    plt.plot(range(1, epochs + 1), train_loss_history, label=\"Training Loss\", marker='o')\n",
        "    plt.plot(range(1, epochs + 1), val_loss_history, label=\"Validation Loss\", marker='o')\n",
        "    plt.title(\"Training and Validation Loss\")\n",
        "    plt.xlabel(\"Epochs\")\n",
        "    plt.ylabel(\"Loss\")\n",
        "    plt.legend()\n",
        "    plt.grid(True)\n",
        "    plt.savefig(\"/content/drive/MyDrive/gpt2/tests/loss_plot.png\")\n",
        "    print(f\"Loss plot saved\")\n"
      ]
    },
    {
      "cell_type": "code",
      "execution_count": 15,
      "metadata": {
        "colab": {
          "base_uri": "https://localhost:8080/",
          "height": 1000
        },
        "id": "mhk6Cv8l9MKH",
        "outputId": "2131c3d7-7f6c-4643-8918-0765d280faed"
      },
      "outputs": [
        {
          "name": "stdout",
          "output_type": "stream",
          "text": [
            "Running on device: cuda\n",
            "Training batches: 81\n",
            "Validation batches: 9\n",
            "Initializing model...\n",
            "Starting training on cuda...\n",
            "Training on device: cuda\n",
            "Epoch 1/25\n"
          ]
        },
        {
          "name": "stderr",
          "output_type": "stream",
          "text": [
            "Training: 100%|██████████| 81/81 [00:50<00:00,  1.60it/s]\n"
          ]
        },
        {
          "name": "stdout",
          "output_type": "stream",
          "text": [
            "Training Loss: 6.1484, Training Accuracy: 26.83%\n",
            "Epoch 2/25\n"
          ]
        },
        {
          "name": "stderr",
          "output_type": "stream",
          "text": [
            "Training: 100%|██████████| 81/81 [00:51<00:00,  1.56it/s]\n"
          ]
        },
        {
          "name": "stdout",
          "output_type": "stream",
          "text": [
            "Training Loss: 4.7306, Training Accuracy: 32.58%\n",
            "Epoch 3/25\n"
          ]
        },
        {
          "name": "stderr",
          "output_type": "stream",
          "text": [
            "Training: 100%|██████████| 81/81 [00:52<00:00,  1.53it/s]\n"
          ]
        },
        {
          "name": "stdout",
          "output_type": "stream",
          "text": [
            "Training Loss: 4.1267, Training Accuracy: 37.70%\n",
            "Epoch 4/25\n"
          ]
        },
        {
          "name": "stderr",
          "output_type": "stream",
          "text": [
            "Training: 100%|██████████| 81/81 [00:52<00:00,  1.54it/s]\n"
          ]
        },
        {
          "name": "stdout",
          "output_type": "stream",
          "text": [
            "Training Loss: 3.7001, Training Accuracy: 41.00%\n",
            "Epoch 5/25\n"
          ]
        },
        {
          "name": "stderr",
          "output_type": "stream",
          "text": [
            "Training: 100%|██████████| 81/81 [00:52<00:00,  1.54it/s]\n"
          ]
        },
        {
          "name": "stdout",
          "output_type": "stream",
          "text": [
            "Training Loss: 3.3805, Training Accuracy: 43.94%\n",
            "Epoch 6/25\n"
          ]
        },
        {
          "name": "stderr",
          "output_type": "stream",
          "text": [
            "Training: 100%|██████████| 81/81 [00:52<00:00,  1.53it/s]\n"
          ]
        },
        {
          "name": "stdout",
          "output_type": "stream",
          "text": [
            "Training Loss: 3.0998, Training Accuracy: 46.65%\n",
            "Epoch 7/25\n"
          ]
        },
        {
          "name": "stderr",
          "output_type": "stream",
          "text": [
            "Training: 100%|██████████| 81/81 [00:52<00:00,  1.53it/s]\n"
          ]
        },
        {
          "name": "stdout",
          "output_type": "stream",
          "text": [
            "Training Loss: 2.8770, Training Accuracy: 49.13%\n",
            "Epoch 8/25\n"
          ]
        },
        {
          "name": "stderr",
          "output_type": "stream",
          "text": [
            "Training: 100%|██████████| 81/81 [00:52<00:00,  1.54it/s]\n"
          ]
        },
        {
          "name": "stdout",
          "output_type": "stream",
          "text": [
            "Training Loss: 2.6630, Training Accuracy: 51.89%\n",
            "Epoch 9/25\n"
          ]
        },
        {
          "name": "stderr",
          "output_type": "stream",
          "text": [
            "Training: 100%|██████████| 81/81 [00:52<00:00,  1.53it/s]\n"
          ]
        },
        {
          "name": "stdout",
          "output_type": "stream",
          "text": [
            "Training Loss: 2.4754, Training Accuracy: 54.40%\n",
            "Epoch 10/25\n"
          ]
        },
        {
          "name": "stderr",
          "output_type": "stream",
          "text": [
            "Training: 100%|██████████| 81/81 [00:52<00:00,  1.53it/s]\n"
          ]
        },
        {
          "name": "stdout",
          "output_type": "stream",
          "text": [
            "Training Loss: 2.3165, Training Accuracy: 56.90%\n",
            "Epoch 11/25\n"
          ]
        },
        {
          "name": "stderr",
          "output_type": "stream",
          "text": [
            "Training: 100%|██████████| 81/81 [00:52<00:00,  1.54it/s]\n"
          ]
        },
        {
          "name": "stdout",
          "output_type": "stream",
          "text": [
            "Training Loss: 2.1584, Training Accuracy: 59.15%\n",
            "Epoch 12/25\n"
          ]
        },
        {
          "name": "stderr",
          "output_type": "stream",
          "text": [
            "Training: 100%|██████████| 81/81 [00:52<00:00,  1.54it/s]\n"
          ]
        },
        {
          "name": "stdout",
          "output_type": "stream",
          "text": [
            "Training Loss: 2.0183, Training Accuracy: 61.44%\n",
            "Epoch 13/25\n"
          ]
        },
        {
          "name": "stderr",
          "output_type": "stream",
          "text": [
            "Training: 100%|██████████| 81/81 [00:52<00:00,  1.54it/s]\n"
          ]
        },
        {
          "name": "stdout",
          "output_type": "stream",
          "text": [
            "Training Loss: 1.8872, Training Accuracy: 63.57%\n",
            "Epoch 14/25\n"
          ]
        },
        {
          "name": "stderr",
          "output_type": "stream",
          "text": [
            "Training: 100%|██████████| 81/81 [00:52<00:00,  1.53it/s]\n"
          ]
        },
        {
          "name": "stdout",
          "output_type": "stream",
          "text": [
            "Training Loss: 1.7725, Training Accuracy: 65.65%\n",
            "Epoch 15/25\n"
          ]
        },
        {
          "name": "stderr",
          "output_type": "stream",
          "text": [
            "Training: 100%|██████████| 81/81 [00:52<00:00,  1.53it/s]\n"
          ]
        },
        {
          "name": "stdout",
          "output_type": "stream",
          "text": [
            "Training Loss: 1.6718, Training Accuracy: 67.52%\n",
            "Epoch 16/25\n"
          ]
        },
        {
          "name": "stderr",
          "output_type": "stream",
          "text": [
            "Training: 100%|██████████| 81/81 [00:52<00:00,  1.53it/s]\n"
          ]
        },
        {
          "name": "stdout",
          "output_type": "stream",
          "text": [
            "Training Loss: 1.5773, Training Accuracy: 69.19%\n",
            "Epoch 17/25\n"
          ]
        },
        {
          "name": "stderr",
          "output_type": "stream",
          "text": [
            "Training: 100%|██████████| 81/81 [00:52<00:00,  1.53it/s]\n"
          ]
        },
        {
          "name": "stdout",
          "output_type": "stream",
          "text": [
            "Training Loss: 1.4906, Training Accuracy: 70.62%\n",
            "Epoch 18/25\n"
          ]
        },
        {
          "name": "stderr",
          "output_type": "stream",
          "text": [
            "Training: 100%|██████████| 81/81 [00:52<00:00,  1.54it/s]\n"
          ]
        },
        {
          "name": "stdout",
          "output_type": "stream",
          "text": [
            "Training Loss: 1.4199, Training Accuracy: 72.09%\n",
            "Epoch 19/25\n"
          ]
        },
        {
          "name": "stderr",
          "output_type": "stream",
          "text": [
            "Training: 100%|██████████| 81/81 [00:52<00:00,  1.54it/s]\n"
          ]
        },
        {
          "name": "stdout",
          "output_type": "stream",
          "text": [
            "Training Loss: 1.3534, Training Accuracy: 73.37%\n",
            "Epoch 20/25\n"
          ]
        },
        {
          "name": "stderr",
          "output_type": "stream",
          "text": [
            "Training: 100%|██████████| 81/81 [00:52<00:00,  1.53it/s]\n"
          ]
        },
        {
          "name": "stdout",
          "output_type": "stream",
          "text": [
            "Training Loss: 1.2989, Training Accuracy: 74.47%\n",
            "Epoch 21/25\n"
          ]
        },
        {
          "name": "stderr",
          "output_type": "stream",
          "text": [
            "Training: 100%|██████████| 81/81 [00:52<00:00,  1.53it/s]\n"
          ]
        },
        {
          "name": "stdout",
          "output_type": "stream",
          "text": [
            "Training Loss: 1.2535, Training Accuracy: 75.38%\n",
            "Epoch 22/25\n"
          ]
        },
        {
          "name": "stderr",
          "output_type": "stream",
          "text": [
            "Training: 100%|██████████| 81/81 [00:52<00:00,  1.53it/s]\n"
          ]
        },
        {
          "name": "stdout",
          "output_type": "stream",
          "text": [
            "Training Loss: 1.2154, Training Accuracy: 76.22%\n",
            "Epoch 23/25\n"
          ]
        },
        {
          "name": "stderr",
          "output_type": "stream",
          "text": [
            "Training: 100%|██████████| 81/81 [00:52<00:00,  1.53it/s]\n"
          ]
        },
        {
          "name": "stdout",
          "output_type": "stream",
          "text": [
            "Training Loss: 1.1820, Training Accuracy: 76.90%\n",
            "Epoch 24/25\n"
          ]
        },
        {
          "name": "stderr",
          "output_type": "stream",
          "text": [
            "Training: 100%|██████████| 81/81 [00:52<00:00,  1.53it/s]\n"
          ]
        },
        {
          "name": "stdout",
          "output_type": "stream",
          "text": [
            "Training Loss: 1.1605, Training Accuracy: 77.41%\n",
            "Epoch 25/25\n"
          ]
        },
        {
          "name": "stderr",
          "output_type": "stream",
          "text": [
            "Training: 100%|██████████| 81/81 [00:52<00:00,  1.53it/s]\n"
          ]
        },
        {
          "name": "stdout",
          "output_type": "stream",
          "text": [
            "Training Loss: 1.1455, Training Accuracy: 77.73%\n",
            "Model saved to /content/drive/MyDrive/gpt2/gpt2_model/gpt2_model_final.pth\n",
            "Epoch 1/25 - Validating...\n",
            "Validation Loss: 3.3685, Validation Accuracy: 46.21%\n",
            "Validation loss after epoch 1: (3.368541955947876, 46.20768229166667)\n",
            "Epoch 2/25 - Validating...\n",
            "Validation Loss: 3.3685, Validation Accuracy: 46.21%\n",
            "Validation loss after epoch 2: (3.368541955947876, 46.20768229166667)\n",
            "Epoch 3/25 - Validating...\n",
            "Validation Loss: 3.3685, Validation Accuracy: 46.21%\n",
            "Validation loss after epoch 3: (3.368541955947876, 46.20768229166667)\n",
            "Epoch 4/25 - Validating...\n",
            "Validation Loss: 3.3685, Validation Accuracy: 46.21%\n",
            "Validation loss after epoch 4: (3.368541955947876, 46.20768229166667)\n",
            "Epoch 5/25 - Validating...\n",
            "Validation Loss: 3.3685, Validation Accuracy: 46.21%\n",
            "Validation loss after epoch 5: (3.368541955947876, 46.20768229166667)\n",
            "Epoch 6/25 - Validating...\n",
            "Validation Loss: 3.3685, Validation Accuracy: 46.21%\n",
            "Validation loss after epoch 6: (3.368541955947876, 46.20768229166667)\n",
            "Epoch 7/25 - Validating...\n",
            "Validation Loss: 3.3685, Validation Accuracy: 46.21%\n",
            "Validation loss after epoch 7: (3.368541955947876, 46.20768229166667)\n",
            "Epoch 8/25 - Validating...\n",
            "Validation Loss: 3.3685, Validation Accuracy: 46.21%\n",
            "Validation loss after epoch 8: (3.368541955947876, 46.20768229166667)\n",
            "Epoch 9/25 - Validating...\n",
            "Validation Loss: 3.3685, Validation Accuracy: 46.21%\n",
            "Validation loss after epoch 9: (3.368541955947876, 46.20768229166667)\n",
            "Epoch 10/25 - Validating...\n",
            "Validation Loss: 3.3685, Validation Accuracy: 46.21%\n",
            "Validation loss after epoch 10: (3.368541955947876, 46.20768229166667)\n",
            "Epoch 11/25 - Validating...\n",
            "Validation Loss: 3.3685, Validation Accuracy: 46.21%\n",
            "Validation loss after epoch 11: (3.368541955947876, 46.20768229166667)\n",
            "Epoch 12/25 - Validating...\n",
            "Validation Loss: 3.3685, Validation Accuracy: 46.21%\n",
            "Validation loss after epoch 12: (3.368541955947876, 46.20768229166667)\n",
            "Epoch 13/25 - Validating...\n",
            "Validation Loss: 3.3685, Validation Accuracy: 46.21%\n",
            "Validation loss after epoch 13: (3.368541955947876, 46.20768229166667)\n",
            "Epoch 14/25 - Validating...\n",
            "Validation Loss: 3.3685, Validation Accuracy: 46.21%\n",
            "Validation loss after epoch 14: (3.368541955947876, 46.20768229166667)\n",
            "Epoch 15/25 - Validating...\n",
            "Validation Loss: 3.3685, Validation Accuracy: 46.21%\n",
            "Validation loss after epoch 15: (3.368541955947876, 46.20768229166667)\n",
            "Epoch 16/25 - Validating...\n",
            "Validation Loss: 3.3685, Validation Accuracy: 46.21%\n",
            "Validation loss after epoch 16: (3.368541955947876, 46.20768229166667)\n",
            "Epoch 17/25 - Validating...\n",
            "Validation Loss: 3.3685, Validation Accuracy: 46.21%\n",
            "Validation loss after epoch 17: (3.368541955947876, 46.20768229166667)\n",
            "Epoch 18/25 - Validating...\n",
            "Validation Loss: 3.3685, Validation Accuracy: 46.21%\n",
            "Validation loss after epoch 18: (3.368541955947876, 46.20768229166667)\n",
            "Epoch 19/25 - Validating...\n",
            "Validation Loss: 3.3685, Validation Accuracy: 46.21%\n",
            "Validation loss after epoch 19: (3.368541955947876, 46.20768229166667)\n",
            "Epoch 20/25 - Validating...\n",
            "Validation Loss: 3.3685, Validation Accuracy: 46.21%\n",
            "Validation loss after epoch 20: (3.368541955947876, 46.20768229166667)\n",
            "Epoch 21/25 - Validating...\n",
            "Validation Loss: 3.3685, Validation Accuracy: 46.21%\n",
            "Validation loss after epoch 21: (3.368541955947876, 46.20768229166667)\n",
            "Epoch 22/25 - Validating...\n",
            "Validation Loss: 3.3685, Validation Accuracy: 46.21%\n",
            "Validation loss after epoch 22: (3.368541955947876, 46.20768229166667)\n",
            "Epoch 23/25 - Validating...\n",
            "Validation Loss: 3.3685, Validation Accuracy: 46.21%\n",
            "Validation loss after epoch 23: (3.368541955947876, 46.20768229166667)\n",
            "Epoch 24/25 - Validating...\n",
            "Validation Loss: 3.3685, Validation Accuracy: 46.21%\n",
            "Validation loss after epoch 24: (3.368541955947876, 46.20768229166667)\n",
            "Epoch 25/25 - Validating...\n",
            "Validation Loss: 3.3685, Validation Accuracy: 46.21%\n",
            "Validation loss after epoch 25: (3.368541955947876, 46.20768229166667)\n",
            "Saving the trained model to gpt2_model.pth...\n",
            "Model saved to gpt2_model.pth\n",
            "Plotting the loss...\n",
            "Loss plot saved\n"
          ]
        },
        {
          "data": {
            "image/png": "[encoded data removed]",
            "text/plain": [
              "<Figure size 1000x600 with 1 Axes>"
            ]
          },
          "metadata": {},
          "output_type": "display_data"
        }
      ],
      "source": [
        "import torch\n",
        "# from src.models.gpt2_model import GPT2Model\n",
        "# from src.create_dataset.data_loading_splitting import load_and_split_data\n",
        "# from src.models.config import GPT_CONFIG_124M\n",
        "# from tests.train import train_model, save_model\n",
        "# from tests.evaluate import validate_model\n",
        "# from tests.visualisation import plot_loss\n",
        "\n",
        "def main(csv_file, model_save_path=\"gpt2_model.pth\", device=\"cuda\"):\n",
        "    # Load config\n",
        "    config = GPT_CONFIG_124M\n",
        "\n",
        "    # Load data\n",
        "    train_loader, val_loader = load_and_split_data(csv_file=csv_file, config=config)\n",
        "\n",
        "    # Check if data is loading correctly\n",
        "    print(f\"Training batches: {len(train_loader)}\")  # Check how many batches you have\n",
        "    print(f\"Validation batches: {len(val_loader)}\")  # Check how many validation batches you have\n",
        "\n",
        "    # Initialize model\n",
        "    print(f\"Initializing model...\")\n",
        "    model = GPT2Model().to(device)\n",
        "\n",
        "    # Train the model\n",
        "    print(f\"Starting training on {device}...\")\n",
        "    # Unpack three values from train_model (train_loss_history, train_accuracy_history, and model)\n",
        "    train_loss_history, train_accuracy_history, model = train_model(model, train_loader, config, device)\n",
        "\n",
        "    # Initialize an empty list for validation loss history\n",
        "    val_loss_history = []\n",
        "\n",
        "    # Validate the model after each epoch\n",
        "    for epoch in range(config[\"epochs\"]):\n",
        "        print(f\"Epoch {epoch + 1}/{config['epochs']} - Validating...\")\n",
        "        val_loss = validate_model(model, val_loader, device)\n",
        "        print(f\"Validation loss after epoch {epoch + 1}: {val_loss}\")\n",
        "        val_loss_history.append(val_loss)\n",
        "\n",
        "    # Save the trained model\n",
        "    print(f\"Saving the trained model to {model_save_path}...\")\n",
        "    save_model(model, model_save_path)\n",
        "\n",
        "    # Visualize training and validation loss\n",
        "    print(f\"Plotting the loss...\")\n",
        "    plot_loss(train_loss_history, val_loss_history)\n",
        "\n",
        "if __name__ == \"__main__\":\n",
        "    csv_file = r\"/content/drive/MyDrive/gpt2/data/raw/medquad_1000.csv\"  # Replace with the path to your dataset\n",
        "    device = \"cuda\" if torch.cuda.is_available() else \"cpu\"\n",
        "    print(f\"Running on device: {device}\")\n",
        "    main(csv_file, device=device)\n"
      ]
    },
    {
      "cell_type": "markdown",
      "metadata": {},
      "source": [
        "### In the plot top line green color is  validation accuracy not validation loss "
      ]
    },
    {
      "cell_type": "markdown",
      "metadata": {
        "id": "RKzLKtyP-I13"
      },
      "source": []
    },
    {
      "cell_type": "code",
      "execution_count": null,
      "metadata": {
        "colab": {
          "base_uri": "https://localhost:8080/"
        },
        "id": "9L1DS7uZPeOy",
        "outputId": "36f964ce-3372-4780-9203-6d4b45f7460b"
      },
      "outputs": [
        {
          "name": "stdout",
          "output_type": "stream",
          "text": [
            "Running on device: cuda\n",
            "Chatbot ready. Type 'exit' to end the chat.\n",
            "You: Kidney Disease in Children\n",
            "Bot: Kidney Disease in Children\n",
            "Answer at greater risk for risk becoming groups offer classes and heart disease with cirrhosis should include heart attacks will come in which is used as a higher-American men and saturated fat or having heart problems such meat. You can prevent severe heart problems\n",
            "You: Kidney Disease in Children\n",
            "Bot: Kidney Disease in Children with an estimate of these medical terms or the body, they arent drink or    External radiation is a light sed, or injected near a vein may receive an important from growing before being tested to make a microscope atypical hernia \n",
            "You: Kidney Disease in Children\n",
            "Bot: Kidney Disease in Children with the body's body to a body and a microscope by the blood cells called biotherapy:\n",
            "  Some researchers are able can help reduce these tests. This procedure involves drawing a light. The pediatric from another protein are actually help prevent an outpatient-\n",
            "You:  congenita inherited\n",
            "Bot:  congenita inherited and how often lead to be right away if there in one studyation.  Physical problems caused swelling, which can treat certain areas. When chemotherapy before the amount is not be different if they also take any remaining the body such between the production will look\n",
            "You:  symptoms of Liddle syndrome\n",
            "Bot:  symptoms of Liddle syndrome. Signs the lymphocyst below the symptom will also remove as patients were done. If people may also called nuclear Neurological insufficiency treatment or stop bleeding can live to be seen for long. In addition or after they take it only during treatment\n"
          ]
        }
      ],
      "source": [
        "import torch\n",
        "import tiktoken\n",
        "# from src.models.gpt2_model import GPT2Model\n",
        "# from src.models.config import GPT_CONFIG_124M\n",
        "\n",
        "def load_model(model_path, device):\n",
        "    \"\"\"\n",
        "    Load the model's weights and return the model.\n",
        "    \"\"\"\n",
        "    model = GPT2Model().to(device)\n",
        "    model.load_state_dict(torch.load(model_path, map_location=device, weights_only=True))  # Load only weights\n",
        "    model.eval()  # Set the model to evaluation mode\n",
        "    return model\n",
        "\n",
        "def sample_next_token_nucleus(logits, p=0.9, temperature=1.0):\n",
        "    \"\"\"\n",
        "    Sample the next token using nucleus (top-p) sampling with temperature scaling.\n",
        "    \"\"\"\n",
        "    # Apply temperature scaling to logits\n",
        "    logits = logits / temperature\n",
        "\n",
        "    # Clip extreme logits to prevent numerical overflow\n",
        "    logits = torch.clamp(logits, -10.0, 10.0)\n",
        "\n",
        "    # Convert logits to probabilities using softmax\n",
        "    probs = torch.softmax(logits, dim=-1)\n",
        "\n",
        "    # Check for NaN or Inf in probabilities and replace them with zero\n",
        "    if torch.any(torch.isnan(probs)) or torch.any(torch.isinf(probs)):\n",
        "        print(\"Warning: NaN or Inf found in probs\")\n",
        "        print(f\"Logits before softmax: {logits}\")\n",
        "        raise ValueError(\"NaN or Inf detected in the probability distribution.\")\n",
        "\n",
        "    # Sort probabilities in descending order and get cumulative probabilities\n",
        "    sorted_probs, sorted_indices = torch.sort(probs, descending=True)\n",
        "    cumulative_probs = torch.cumsum(sorted_probs, dim=-1)\n",
        "\n",
        "    # Select only the tokens with cumulative probability less than p\n",
        "    sorted_indices_to_keep = cumulative_probs < p\n",
        "    sorted_probs[~sorted_indices_to_keep] = 0  # Set others to zero\n",
        "\n",
        "    # Add a small epsilon value to avoid division by zero during renormalization\n",
        "    epsilon = 1e-8\n",
        "    sorted_probs /= sorted_probs.sum() + epsilon  # Re-normalize to form a valid probability distribution\n",
        "\n",
        "    # Check for any NaN or Inf values after re-normalization\n",
        "    if torch.any(torch.isnan(sorted_probs)) or torch.any(torch.isinf(sorted_probs)):\n",
        "        print(\"Warning: NaN or Inf found after renormalization\")\n",
        "        print(f\"Sorted Probs: {sorted_probs}\")\n",
        "        raise ValueError(\"NaN or Inf detected after re-normalizing the probability distribution.\")\n",
        "\n",
        "    # Sample the next token from the filtered probabilities\n",
        "    next_token = torch.multinomial(sorted_probs, 1)\n",
        "\n",
        "    # Return the corresponding token index from sorted indices\n",
        "    return sorted_indices.gather(-1, next_token)\n",
        "\n",
        "def generate_response(model, prompt, tokenizer, max_length=50, device=\"cpu\", temperature=0.7, top_k=20, p=0.9):\n",
        "    input_tokens = tokenizer.encode(prompt, allowed_special={'<|endoftext|>'})\n",
        "    input_tensor = torch.tensor(input_tokens).unsqueeze(0).to(device)  # Add batch dimension\n",
        "\n",
        "    generated_tokens = input_tensor\n",
        "\n",
        "    with torch.no_grad():\n",
        "        for _ in range(max_length):\n",
        "            # Get the model's output (logits)\n",
        "            logits = model(generated_tokens)\n",
        "\n",
        "            # Focus on the last token's logits\n",
        "            logits = logits[:, -1, :]\n",
        "\n",
        "            # Sample the next token using nucleus sampling (top-p)\n",
        "            next_token = sample_next_token_nucleus(logits, p=p, temperature=temperature)\n",
        "\n",
        "            # Append the new token to the context\n",
        "            generated_tokens = torch.cat((generated_tokens, next_token), dim=1)\n",
        "\n",
        "            # Optionally check for the end-of-text token\n",
        "            end_of_text_token = tokenizer.encode(\"<|endoftext|>\", allowed_special={'<|endoftext|>'})[0]\n",
        "            if next_token.item() == end_of_text_token:\n",
        "                break\n",
        "\n",
        "    # Decode the generated tokens to text\n",
        "    output_text = tokenizer.decode(generated_tokens.squeeze().cpu().tolist())\n",
        "\n",
        "    return output_text\n",
        "\n",
        "def chat(model, tokenizer, device=\"cpu\"):\n",
        "    \"\"\"\n",
        "    Chat interface for interacting with the trained model.\n",
        "    \"\"\"\n",
        "    print(\"Chatbot ready. Type 'exit' to end the chat.\")\n",
        "\n",
        "    while True:\n",
        "        user_input = input(\"You: \")\n",
        "\n",
        "        if user_input.lower() == \"exit\":\n",
        "            print(\"Goodbye!\")\n",
        "            break\n",
        "\n",
        "        # Generate response using the trained model\n",
        "        response = generate_response(model, user_input, tokenizer, device=device, temperature=0.7, top_k=50, p=0.9)\n",
        "        print(f\"Bot: {response}\")\n",
        "\n",
        "def main():\n",
        "    \"\"\"\n",
        "    Main function to initialize and run the chatbot.\n",
        "    \"\"\"\n",
        "    model_path = r\"/content/drive/MyDrive/gpt2/gpt2_model/gpt2_model_final.pth\"  # Path to the trained model\n",
        "\n",
        "    # Automatically choose device based on availability\n",
        "    device = \"cuda\" if torch.cuda.is_available() else \"cpu\"\n",
        "    print(f\"Running on device: {device}\")\n",
        "\n",
        "    # Load the tokenizer and the trained model\n",
        "    tokenizer = tiktoken.get_encoding(\"gpt2\")\n",
        "    model = load_model(model_path, device)\n",
        "\n",
        "    # Start the chatbot\n",
        "    chat(model, tokenizer, device=device)\n",
        "\n",
        "if __name__ == \"__main__\":\n",
        "    main()\n"
      ]
    }
  ],
  "metadata": {
    "accelerator": "GPU",
    "colab": {
      "gpuType": "T4",
      "provenance": []
    },
    "kernelspec": {
      "display_name": "Python 3",
      "name": "python3"
    },
    "language_info": {
      "name": "python"
    }
  },
  "nbformat": 4,
  "nbformat_minor": 0
}
